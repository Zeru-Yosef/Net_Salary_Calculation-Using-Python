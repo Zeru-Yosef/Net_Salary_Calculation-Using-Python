{
 "cells": [
  {
   "cell_type": "code",
   "execution_count": 8,
   "metadata": {},
   "outputs": [
    {
     "name": "stdout",
     "output_type": "stream",
     "text": [
      "Employee Name:Yosef\n"
     ]
    }
   ],
   "source": [
    "# Insert Name of the Employee using input() function\n",
    "NAME = input(\"Employee Name:\")"
   ]
  },
  {
   "cell_type": "code",
   "execution_count": 10,
   "metadata": {},
   "outputs": [
    {
     "name": "stdout",
     "output_type": "stream",
     "text": [
      "Please State your Gross Salary:600\n"
     ]
    }
   ],
   "source": [
    "# Insert gross salary of the Employee using input() function\n",
    "GROSS_SALARY = int(input(\"Please State your Gross Salary:\"))\n",
    "#Calculate Pension based on the given gross salary\n",
    "PENSION = GROSS_SALARY * 0.12"
   ]
  },
  {
   "cell_type": "code",
   "execution_count": 13,
   "metadata": {},
   "outputs": [
    {
     "name": "stdout",
     "output_type": "stream",
     "text": [
      "Yosef\n",
      "600\n",
      "72.0\n",
      "528.0\n"
     ]
    }
   ],
   "source": [
    "#Define the tax, pension and other deductables by salary range\n",
    "if GROSS_SALARY <= 600:\n",
    "    Net_Salary = GROSS_SALARY - PENSION\n",
    "elif GROSS_SALARY >= 601 & GROSS_SALARY <=1650 :\n",
    "    Net_Salary = GROSS_SALARY - 60 - PENSION\n",
    "elif GROSS_SALARY >= 1651 & GROSS_SALARY <=3200 :\n",
    "    Net_Salary = GROSS_SALARY - 142 - PENSION\n",
    "elif GROSS_SALARY >= 3201 & GROSS_SALARY <=5250 :\n",
    "    Net_Salary = GROSS_SALARY - 303 - PENSION\n",
    "elif GROSS_SALARY >= 5251 & GROSS_SALARY <=7800 :\n",
    "    Net_Salary = GROSS_SALARY - 565 - PENSION\n",
    "elif GROSS_SALARY >= 7801 & GROSS_SALARY <=10900 :\n",
    "    Net_Salary = GROSS_SALARY - 955 - PENSION\n",
    "elif GROSS_SALARY >= 10901:\n",
    "    Net_Salary = GROSS_SALARY - 1500 - PENSION\n",
    "else:\n",
    "    print(\"Invalid Entry\")\n",
    "    \n",
    "print(NAME)\n",
    "print(GROSS_SALARY)\n",
    "print(PENSION)\n",
    "print(Net_Salary)"
   ]
  },
  {
   "cell_type": "code",
   "execution_count": null,
   "metadata": {},
   "outputs": [],
   "source": []
  },
  {
   "cell_type": "code",
   "execution_count": null,
   "metadata": {},
   "outputs": [],
   "source": []
  }
 ],
 "metadata": {
  "kernelspec": {
   "display_name": "Python 3",
   "language": "python",
   "name": "python3"
  },
  "language_info": {
   "codemirror_mode": {
    "name": "ipython",
    "version": 3
   },
   "file_extension": ".py",
   "mimetype": "text/x-python",
   "name": "python",
   "nbconvert_exporter": "python",
   "pygments_lexer": "ipython3",
   "version": "3.8.5"
  }
 },
 "nbformat": 4,
 "nbformat_minor": 4
}
